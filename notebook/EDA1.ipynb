{
 "cells": [
  {
   "cell_type": "code",
   "execution_count": 2,
   "id": "65eaad7f",
   "metadata": {},
   "outputs": [],
   "source": [
    "import pandas as pd \n",
    "import numpy as np \n",
    "import seaborn as sns\n",
    "import matplotlib.pyplot as plt\n",
    "%matplotlib inline\n",
    "import warnings\n",
    "warnings.filterwarnings(\"ignore\")"
   ]
  },
  {
   "cell_type": "code",
   "execution_count": 3,
   "id": "4746ed60",
   "metadata": {},
   "outputs": [
    {
     "data": {
      "text/plain": [
       "(1000, 8)"
      ]
     },
     "execution_count": 3,
     "metadata": {},
     "output_type": "execute_result"
    }
   ],
   "source": [
    "df = pd.read_csv('../data/stud.csv')\n",
    "df.shape"
   ]
  },
  {
   "cell_type": "markdown",
   "id": "121a9ceb",
   "metadata": {},
   "source": [
    "1. Missing Values --> No missing values\n",
    "2. Duplicate Values --> No duplicates\n",
    "3. Data Type -->  5 categorical and 3 numeric type columns\n",
    "4. Number of unique_values \n",
    "5. Statistics of Dataset\n",
    "6. Various categories in different categorical columns\n",
    "\n",
    "{'gender': 2,\n",
    " 'race_ethnicity': 5,\n",
    " 'parental_level_of_education': 6,\n",
    " 'lunch': 2,\n",
    " 'test_preparation_course': 2,\n",
    " 'math_score': 81,\n",
    " 'reading_score': 72,\n",
    " 'writing_score': 77}\n",
    "\n",
    "Description of Dataset statistics\n",
    "\n",
    " \tmath_score\treading_score\twriting_score\n",
    "count\t1000.00000\t1000.000000\t1000.000000\n",
    "mean\t66.08900\t69.169000\t68.054000\n",
    "std\t15.16308\t14.600192\t15.195657\n",
    "min\t0.00000\t17.000000\t10.000000\n",
    "25%\t57.00000\t59.000000\t57.750000\n",
    "50%\t66.00000\t70.000000\t69.000000\n",
    "75%\t77.00000\t79.000000\t79.000000\n",
    "max\t100.00000\t100.000000\t100.000000"
   ]
  },
  {
   "cell_type": "code",
   "execution_count": 4,
   "id": "d78ed0d2",
   "metadata": {},
   "outputs": [
    {
     "data": {
      "text/plain": [
       "gender                         0\n",
       "race_ethnicity                 0\n",
       "parental_level_of_education    0\n",
       "lunch                          0\n",
       "test_preparation_course        0\n",
       "math_score                     0\n",
       "reading_score                  0\n",
       "writing_score                  0\n",
       "dtype: int64"
      ]
     },
     "execution_count": 4,
     "metadata": {},
     "output_type": "execute_result"
    }
   ],
   "source": [
    "df.isnull().sum()"
   ]
  },
  {
   "cell_type": "code",
   "execution_count": 5,
   "id": "8870ab7b",
   "metadata": {},
   "outputs": [
    {
     "data": {
      "text/plain": [
       "np.int64(0)"
      ]
     },
     "execution_count": 5,
     "metadata": {},
     "output_type": "execute_result"
    }
   ],
   "source": [
    "df.duplicated().sum()"
   ]
  },
  {
   "cell_type": "code",
   "execution_count": 6,
   "id": "d5f0731b",
   "metadata": {},
   "outputs": [
    {
     "name": "stdout",
     "output_type": "stream",
     "text": [
      "<class 'pandas.core.frame.DataFrame'>\n",
      "RangeIndex: 1000 entries, 0 to 999\n",
      "Data columns (total 8 columns):\n",
      " #   Column                       Non-Null Count  Dtype \n",
      "---  ------                       --------------  ----- \n",
      " 0   gender                       1000 non-null   object\n",
      " 1   race_ethnicity               1000 non-null   object\n",
      " 2   parental_level_of_education  1000 non-null   object\n",
      " 3   lunch                        1000 non-null   object\n",
      " 4   test_preparation_course      1000 non-null   object\n",
      " 5   math_score                   1000 non-null   int64 \n",
      " 6   reading_score                1000 non-null   int64 \n",
      " 7   writing_score                1000 non-null   int64 \n",
      "dtypes: int64(3), object(5)\n",
      "memory usage: 62.6+ KB\n"
     ]
    }
   ],
   "source": [
    "df.info()"
   ]
  },
  {
   "cell_type": "code",
   "execution_count": 7,
   "id": "095b82bd",
   "metadata": {},
   "outputs": [
    {
     "data": {
      "text/plain": [
       "Index(['gender', 'race_ethnicity', 'parental_level_of_education', 'lunch',\n",
       "       'test_preparation_course', 'math_score', 'reading_score',\n",
       "       'writing_score'],\n",
       "      dtype='object')"
      ]
     },
     "execution_count": 7,
     "metadata": {},
     "output_type": "execute_result"
    }
   ],
   "source": [
    "df.columns"
   ]
  },
  {
   "cell_type": "code",
   "execution_count": 8,
   "id": "92c85d15",
   "metadata": {},
   "outputs": [
    {
     "data": {
      "text/plain": [
       "{'gender': 2,\n",
       " 'race_ethnicity': 5,\n",
       " 'parental_level_of_education': 6,\n",
       " 'lunch': 2,\n",
       " 'test_preparation_course': 2,\n",
       " 'math_score': 81,\n",
       " 'reading_score': 72,\n",
       " 'writing_score': 77}"
      ]
     },
     "execution_count": 8,
     "metadata": {},
     "output_type": "execute_result"
    }
   ],
   "source": [
    "unique_values = {}\n",
    "for column in df.columns:\n",
    "    unique_values[column] = df[column].nunique()\n",
    "\n",
    "unique_values"
   ]
  },
  {
   "cell_type": "code",
   "execution_count": 9,
   "id": "9f083367",
   "metadata": {},
   "outputs": [
    {
     "data": {
      "text/html": [
       "<div>\n",
       "<style scoped>\n",
       "    .dataframe tbody tr th:only-of-type {\n",
       "        vertical-align: middle;\n",
       "    }\n",
       "\n",
       "    .dataframe tbody tr th {\n",
       "        vertical-align: top;\n",
       "    }\n",
       "\n",
       "    .dataframe thead th {\n",
       "        text-align: right;\n",
       "    }\n",
       "</style>\n",
       "<table border=\"1\" class=\"dataframe\">\n",
       "  <thead>\n",
       "    <tr style=\"text-align: right;\">\n",
       "      <th></th>\n",
       "      <th>math_score</th>\n",
       "      <th>reading_score</th>\n",
       "      <th>writing_score</th>\n",
       "    </tr>\n",
       "  </thead>\n",
       "  <tbody>\n",
       "    <tr>\n",
       "      <th>count</th>\n",
       "      <td>1000.00000</td>\n",
       "      <td>1000.000000</td>\n",
       "      <td>1000.000000</td>\n",
       "    </tr>\n",
       "    <tr>\n",
       "      <th>mean</th>\n",
       "      <td>66.08900</td>\n",
       "      <td>69.169000</td>\n",
       "      <td>68.054000</td>\n",
       "    </tr>\n",
       "    <tr>\n",
       "      <th>std</th>\n",
       "      <td>15.16308</td>\n",
       "      <td>14.600192</td>\n",
       "      <td>15.195657</td>\n",
       "    </tr>\n",
       "    <tr>\n",
       "      <th>min</th>\n",
       "      <td>0.00000</td>\n",
       "      <td>17.000000</td>\n",
       "      <td>10.000000</td>\n",
       "    </tr>\n",
       "    <tr>\n",
       "      <th>25%</th>\n",
       "      <td>57.00000</td>\n",
       "      <td>59.000000</td>\n",
       "      <td>57.750000</td>\n",
       "    </tr>\n",
       "    <tr>\n",
       "      <th>50%</th>\n",
       "      <td>66.00000</td>\n",
       "      <td>70.000000</td>\n",
       "      <td>69.000000</td>\n",
       "    </tr>\n",
       "    <tr>\n",
       "      <th>75%</th>\n",
       "      <td>77.00000</td>\n",
       "      <td>79.000000</td>\n",
       "      <td>79.000000</td>\n",
       "    </tr>\n",
       "    <tr>\n",
       "      <th>max</th>\n",
       "      <td>100.00000</td>\n",
       "      <td>100.000000</td>\n",
       "      <td>100.000000</td>\n",
       "    </tr>\n",
       "  </tbody>\n",
       "</table>\n",
       "</div>"
      ],
      "text/plain": [
       "       math_score  reading_score  writing_score\n",
       "count  1000.00000    1000.000000    1000.000000\n",
       "mean     66.08900      69.169000      68.054000\n",
       "std      15.16308      14.600192      15.195657\n",
       "min       0.00000      17.000000      10.000000\n",
       "25%      57.00000      59.000000      57.750000\n",
       "50%      66.00000      70.000000      69.000000\n",
       "75%      77.00000      79.000000      79.000000\n",
       "max     100.00000     100.000000     100.000000"
      ]
     },
     "execution_count": 9,
     "metadata": {},
     "output_type": "execute_result"
    }
   ],
   "source": [
    "df.describe()"
   ]
  },
  {
   "cell_type": "code",
   "execution_count": 10,
   "id": "36f57676",
   "metadata": {},
   "outputs": [
    {
     "data": {
      "text/plain": [
       "{'gender': array(['female', 'male'], dtype=object),\n",
       " 'race_ethnicity': array(['group B', 'group C', 'group A', 'group D', 'group E'],\n",
       "       dtype=object),\n",
       " 'parental_level_of_education': array([\"bachelor's degree\", 'some college', \"master's degree\",\n",
       "        \"associate's degree\", 'high school', 'some high school'],\n",
       "       dtype=object),\n",
       " 'lunch': array(['standard', 'free/reduced'], dtype=object),\n",
       " 'test_preparation_course': array(['none', 'completed'], dtype=object),\n",
       " 'math_score': array([ 72,  69,  90,  47,  76,  71,  88,  40,  64,  38,  58,  65,  78,\n",
       "         50,  18,  46,  54,  66,  44,  74,  73,  67,  70,  62,  63,  56,\n",
       "         97,  81,  75,  57,  55,  53,  59,  82,  77,  33,  52,   0,  79,\n",
       "         39,  45,  60,  61,  41,  49,  30,  80,  42,  27,  43,  68,  85,\n",
       "         98,  87,  51,  99,  84,  91,  83,  89,  22, 100,  96,  94,  48,\n",
       "         35,  34,  86,  92,  37,  28,  24,  26,  95,  36,  29,  32,  93,\n",
       "         19,  23,   8]),\n",
       " 'reading_score': array([ 72,  90,  95,  57,  78,  83,  43,  64,  60,  54,  52,  81,  53,\n",
       "         75,  89,  32,  42,  58,  69,  73,  71,  74,  70,  65,  87,  56,\n",
       "         61,  84,  55,  44,  41,  85,  59,  17,  39,  80,  37,  63,  51,\n",
       "         49,  26,  68,  45,  47,  86,  34,  79,  66,  67,  91, 100,  76,\n",
       "         77,  82,  92,  93,  62,  88,  50,  28,  48,  46,  23,  38,  94,\n",
       "         97,  99,  31,  96,  24,  29,  40]),\n",
       " 'writing_score': array([ 74,  88,  93,  44,  75,  78,  92,  39,  67,  50,  52,  43,  73,\n",
       "         70,  58,  86,  28,  46,  61,  63,  53,  80,  72,  55,  65,  38,\n",
       "         82,  79,  83,  59,  57,  54,  68,  66,  62,  76,  48,  42,  87,\n",
       "         49,  10,  34,  71,  37,  56,  41,  22,  81,  45,  36,  89,  47,\n",
       "         90, 100,  64,  98,  51,  40,  84,  69,  33,  60,  85,  91,  77,\n",
       "         27,  94,  95,  19,  35,  32,  96,  97,  99,  15,  30,  23])}"
      ]
     },
     "execution_count": 10,
     "metadata": {},
     "output_type": "execute_result"
    }
   ],
   "source": [
    "unique_vals_column = {}\n",
    "for column in df.columns:\n",
    "    unique_vals_column[column] = df[column].unique()\n",
    "\n",
    "unique_vals_column"
   ]
  },
  {
   "cell_type": "code",
   "execution_count": null,
   "id": "62807230",
   "metadata": {},
   "outputs": [],
   "source": [
    "# Categorizing into numeric and categorical columns."
   ]
  },
  {
   "cell_type": "code",
   "execution_count": null,
   "id": "610392ab",
   "metadata": {},
   "outputs": [],
   "source": []
  },
  {
   "cell_type": "code",
   "execution_count": null,
   "id": "7e149bf1",
   "metadata": {},
   "outputs": [],
   "source": []
  }
 ],
 "metadata": {
  "kernelspec": {
   "display_name": "nvenv",
   "language": "python",
   "name": "python3"
  },
  "language_info": {
   "codemirror_mode": {
    "name": "ipython",
    "version": 3
   },
   "file_extension": ".py",
   "mimetype": "text/x-python",
   "name": "python",
   "nbconvert_exporter": "python",
   "pygments_lexer": "ipython3",
   "version": "3.10.18"
  }
 },
 "nbformat": 4,
 "nbformat_minor": 5
}
